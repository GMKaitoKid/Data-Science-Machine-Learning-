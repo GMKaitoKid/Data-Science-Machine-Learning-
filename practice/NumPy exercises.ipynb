{
 "cells": [
  {
   "cell_type": "code",
   "execution_count": 15,
   "id": "27279de6",
   "metadata": {},
   "outputs": [],
   "source": [
    "import numpy as np\n",
    "import pandas as pd\n",
    "import matplotlib.pyplot as plt"
   ]
  },
  {
   "cell_type": "code",
   "execution_count": 3,
   "id": "3682219c",
   "metadata": {},
   "outputs": [
    {
     "data": {
      "text/plain": [
       "array([1, 2, 3])"
      ]
     },
     "execution_count": 3,
     "metadata": {},
     "output_type": "execute_result"
    }
   ],
   "source": [
    "one_dim = np.array([1, 2, 3])\n",
    "one_dim"
   ]
  },
  {
   "cell_type": "code",
   "execution_count": 7,
   "id": "2e054bbc",
   "metadata": {},
   "outputs": [
    {
     "data": {
      "text/plain": [
       "(array([[ 1,  2,  3,  4],\n",
       "        [ 5,  6,  7,  8],\n",
       "        [ 9, 10, 11, 12]]),\n",
       " (3, 4))"
      ]
     },
     "execution_count": 7,
     "metadata": {},
     "output_type": "execute_result"
    }
   ],
   "source": [
    "two_dim = np.array([[1, 2, 3, 4],\n",
    "                   [5, 6, 7, 8],\n",
    "                   [9, 10, 11, 12]])\n",
    "\n",
    "two_dim, two_dim.shape"
   ]
  },
  {
   "cell_type": "code",
   "execution_count": 8,
   "id": "8f674830",
   "metadata": {},
   "outputs": [
    {
     "data": {
      "text/plain": [
       "array([[[ 1,  2,  3],\n",
       "        [ 4,  5,  6]],\n",
       "\n",
       "       [[10, 11, 12],\n",
       "        [13, 14, 15]]])"
      ]
     },
     "execution_count": 8,
     "metadata": {},
     "output_type": "execute_result"
    }
   ],
   "source": [
    "three_dim = np.array([[[1, 2, 3],\n",
    "                       [4, 5, 6]],\n",
    "                       \n",
    "                       [[10, 11, 12],\n",
    "                       [13, 14, 15]]])\n",
    "three_dim"
   ]
  },
  {
   "cell_type": "code",
   "execution_count": 9,
   "id": "ef30bd0b",
   "metadata": {},
   "outputs": [
    {
     "data": {
      "text/plain": [
       "(2, 2, 3)"
      ]
     },
     "execution_count": 9,
     "metadata": {},
     "output_type": "execute_result"
    }
   ],
   "source": [
    "three_dim.shape"
   ]
  },
  {
   "cell_type": "code",
   "execution_count": 11,
   "id": "3fc209fb",
   "metadata": {},
   "outputs": [
    {
     "data": {
      "text/plain": [
       "(3, 12, 12)"
      ]
     },
     "execution_count": 11,
     "metadata": {},
     "output_type": "execute_result"
    }
   ],
   "source": [
    "one_dim.size, two_dim.size, three_dim.size"
   ]
  },
  {
   "cell_type": "code",
   "execution_count": 12,
   "id": "71e1336f",
   "metadata": {},
   "outputs": [
    {
     "data": {
      "text/plain": [
       "(1, 2, 3)"
      ]
     },
     "execution_count": 12,
     "metadata": {},
     "output_type": "execute_result"
    }
   ],
   "source": [
    "one_dim.ndim, two_dim.ndim, three_dim.ndim"
   ]
  },
  {
   "cell_type": "code",
   "execution_count": 13,
   "id": "8f3b49ed",
   "metadata": {},
   "outputs": [
    {
     "data": {
      "text/plain": [
       "(numpy.ndarray, numpy.ndarray, numpy.ndarray)"
      ]
     },
     "execution_count": 13,
     "metadata": {},
     "output_type": "execute_result"
    }
   ],
   "source": [
    "type(one_dim), type(two_dim), type(three_dim)"
   ]
  },
  {
   "cell_type": "code",
   "execution_count": 14,
   "id": "8b13066e",
   "metadata": {},
   "outputs": [
    {
     "data": {
      "text/plain": [
       "(dtype('int32'), dtype('int32'), dtype('int32'))"
      ]
     },
     "execution_count": 14,
     "metadata": {},
     "output_type": "execute_result"
    }
   ],
   "source": [
    "one_dim.dtype, two_dim.dtype, three_dim.dtype"
   ]
  },
  {
   "cell_type": "code",
   "execution_count": 17,
   "id": "3bed5aa4",
   "metadata": {},
   "outputs": [
    {
     "data": {
      "text/html": [
       "<div>\n",
       "<style scoped>\n",
       "    .dataframe tbody tr th:only-of-type {\n",
       "        vertical-align: middle;\n",
       "    }\n",
       "\n",
       "    .dataframe tbody tr th {\n",
       "        vertical-align: top;\n",
       "    }\n",
       "\n",
       "    .dataframe thead th {\n",
       "        text-align: right;\n",
       "    }\n",
       "</style>\n",
       "<table border=\"1\" class=\"dataframe\">\n",
       "  <thead>\n",
       "    <tr style=\"text-align: right;\">\n",
       "      <th></th>\n",
       "      <th>0</th>\n",
       "    </tr>\n",
       "  </thead>\n",
       "  <tbody>\n",
       "    <tr>\n",
       "      <th>0</th>\n",
       "      <td>1</td>\n",
       "    </tr>\n",
       "    <tr>\n",
       "      <th>1</th>\n",
       "      <td>2</td>\n",
       "    </tr>\n",
       "    <tr>\n",
       "      <th>2</th>\n",
       "      <td>3</td>\n",
       "    </tr>\n",
       "  </tbody>\n",
       "</table>\n",
       "</div>"
      ],
      "text/plain": [
       "   0\n",
       "0  1\n",
       "1  2\n",
       "2  3"
      ]
     },
     "execution_count": 17,
     "metadata": {},
     "output_type": "execute_result"
    }
   ],
   "source": [
    "df = pd.DataFrame(one_dim)\n",
    "df"
   ]
  },
  {
   "cell_type": "code",
   "execution_count": 21,
   "id": "a0f589cb",
   "metadata": {},
   "outputs": [
    {
     "data": {
      "text/plain": [
       "array([[1., 1.],\n",
       "       [1., 1.],\n",
       "       [1., 1.],\n",
       "       [1., 1.],\n",
       "       [1., 1.],\n",
       "       [1., 1.],\n",
       "       [1., 1.],\n",
       "       [1., 1.],\n",
       "       [1., 1.],\n",
       "       [1., 1.]])"
      ]
     },
     "execution_count": 21,
     "metadata": {},
     "output_type": "execute_result"
    }
   ],
   "source": [
    "# Create an array of shape (10, 2) with only ones\n",
    "ones = np.ones((10,2))\n",
    "ones"
   ]
  },
  {
   "cell_type": "code",
   "execution_count": 23,
   "id": "3c5f6ec2",
   "metadata": {},
   "outputs": [
    {
     "data": {
      "text/plain": [
       "array([[[0., 0., 0.],\n",
       "        [0., 0., 0.]],\n",
       "\n",
       "       [[0., 0., 0.],\n",
       "        [0., 0., 0.]],\n",
       "\n",
       "       [[0., 0., 0.],\n",
       "        [0., 0., 0.]],\n",
       "\n",
       "       [[0., 0., 0.],\n",
       "        [0., 0., 0.]],\n",
       "\n",
       "       [[0., 0., 0.],\n",
       "        [0., 0., 0.]],\n",
       "\n",
       "       [[0., 0., 0.],\n",
       "        [0., 0., 0.]],\n",
       "\n",
       "       [[0., 0., 0.],\n",
       "        [0., 0., 0.]]])"
      ]
     },
     "execution_count": 23,
     "metadata": {},
     "output_type": "execute_result"
    }
   ],
   "source": [
    "# Create an array of shape (7, 2, 3) of only zeros\n",
    "zeros = np.zeros((7, 2, 3))\n",
    "zeros"
   ]
  },
  {
   "cell_type": "code",
   "execution_count": 24,
   "id": "d9d47c9f",
   "metadata": {},
   "outputs": [
    {
     "data": {
      "text/plain": [
       "array([ 0,  3,  6,  9, 12, 15, 18, 21, 24, 27, 30, 33, 36, 39, 42, 45, 48,\n",
       "       51, 54, 57, 60, 63, 66, 69, 72, 75, 78, 81, 84, 87, 90, 93, 96, 99])"
      ]
     },
     "execution_count": 24,
     "metadata": {},
     "output_type": "execute_result"
    }
   ],
   "source": [
    "ranged_array = np.arange(0, 100, 3)\n",
    "ranged_array"
   ]
  },
  {
   "cell_type": "code",
   "execution_count": 25,
   "id": "f73df94a",
   "metadata": {},
   "outputs": [
    {
     "data": {
      "text/plain": [
       "array([[3, 4],\n",
       "       [5, 8],\n",
       "       [8, 6],\n",
       "       [2, 7],\n",
       "       [2, 2],\n",
       "       [5, 6],\n",
       "       [7, 8]])"
      ]
     },
     "execution_count": 25,
     "metadata": {},
     "output_type": "execute_result"
    }
   ],
   "source": [
    "random_1 = np.random.randint(0, 10, size=(7, 2))\n",
    "random_1"
   ]
  },
  {
   "cell_type": "code",
   "execution_count": 28,
   "id": "72a68a09",
   "metadata": {},
   "outputs": [
    {
     "data": {
      "text/plain": [
       "array([[0.4127743 , 0.48242221, 0.72502252, 0.0187898 , 0.95579756],\n",
       "       [0.97915252, 0.85802444, 0.21535662, 0.87815085, 0.63786311],\n",
       "       [0.79790855, 0.59349276, 0.80229444, 0.3380978 , 0.45286825]])"
      ]
     },
     "execution_count": 28,
     "metadata": {},
     "output_type": "execute_result"
    }
   ],
   "source": [
    "# Create a random array of floats between 0 & 1 of shape (3, 5)\n",
    "random_3 = np.random.rand(3, 5)\n",
    "random_3"
   ]
  },
  {
   "cell_type": "code",
   "execution_count": 29,
   "id": "7bb3c812",
   "metadata": {},
   "outputs": [
    {
     "data": {
      "text/plain": [
       "array([[6, 3, 7, 4, 6, 9],\n",
       "       [2, 6, 7, 4, 3, 7],\n",
       "       [7, 2, 5, 4, 1, 7],\n",
       "       [5, 1, 4, 0, 9, 5]])"
      ]
     },
     "execution_count": 29,
     "metadata": {},
     "output_type": "execute_result"
    }
   ],
   "source": [
    "np.random.seed(42)\n",
    "random_4 = np.random.randint(0, 10, size=(4,6))\n",
    "random_4"
   ]
  },
  {
   "cell_type": "code",
   "execution_count": 30,
   "id": "0221b68d",
   "metadata": {},
   "outputs": [
    {
     "data": {
      "text/plain": [
       "array([1, 2, 3, 4, 5, 7, 9])"
      ]
     },
     "execution_count": 30,
     "metadata": {},
     "output_type": "execute_result"
    }
   ],
   "source": [
    "random = np.random.randint(1, 10, size=(3, 7))\n",
    "np.unique(random)"
   ]
  },
  {
   "cell_type": "code",
   "execution_count": 32,
   "id": "15343e9a",
   "metadata": {},
   "outputs": [
    {
     "data": {
      "text/plain": [
       "array([[9, 1, 3, 7, 4, 9, 3],\n",
       "       [5, 3, 7, 5, 9, 7, 2],\n",
       "       [4, 9, 2, 9, 5, 2, 4]])"
      ]
     },
     "execution_count": 32,
     "metadata": {},
     "output_type": "execute_result"
    }
   ],
   "source": [
    "random"
   ]
  },
  {
   "cell_type": "code",
   "execution_count": 33,
   "id": "e25820e3",
   "metadata": {},
   "outputs": [
    {
     "data": {
      "text/plain": [
       "array([9, 1, 3, 7, 4, 9, 3])"
      ]
     },
     "execution_count": 33,
     "metadata": {},
     "output_type": "execute_result"
    }
   ],
   "source": [
    "random[0]"
   ]
  },
  {
   "cell_type": "code",
   "execution_count": 34,
   "id": "64b545fe",
   "metadata": {},
   "outputs": [
    {
     "data": {
      "text/plain": [
       "array([[9, 1, 3, 7, 4, 9, 3],\n",
       "       [5, 3, 7, 5, 9, 7, 2]])"
      ]
     },
     "execution_count": 34,
     "metadata": {},
     "output_type": "execute_result"
    }
   ],
   "source": [
    "#get the first two rows\n",
    "random[:2]"
   ]
  },
  {
   "cell_type": "code",
   "execution_count": 35,
   "id": "477d3e16",
   "metadata": {},
   "outputs": [
    {
     "data": {
      "text/plain": [
       "array([[9, 1],\n",
       "       [5, 3]])"
      ]
     },
     "execution_count": 35,
     "metadata": {},
     "output_type": "execute_result"
    }
   ],
   "source": [
    "#get the first two values of first two rows\n",
    "random[:2, :2]"
   ]
  },
  {
   "cell_type": "code",
   "execution_count": 39,
   "id": "3031d6dc",
   "metadata": {},
   "outputs": [],
   "source": [
    "dog = np.random.randint(0, 10, size=(3,5))\n",
    "cat = np.ones((3,5))\n"
   ]
  },
  {
   "cell_type": "code",
   "execution_count": 40,
   "id": "c44e371f",
   "metadata": {},
   "outputs": [
    {
     "data": {
      "text/plain": [
       "(array([[9, 1, 9, 3, 7],\n",
       "        [6, 8, 7, 4, 1],\n",
       "        [4, 7, 9, 8, 8]]),\n",
       " array([[1., 1., 1., 1., 1.],\n",
       "        [1., 1., 1., 1., 1.],\n",
       "        [1., 1., 1., 1., 1.]]))"
      ]
     },
     "execution_count": 40,
     "metadata": {},
     "output_type": "execute_result"
    }
   ],
   "source": [
    "dog, cat"
   ]
  },
  {
   "cell_type": "code",
   "execution_count": 41,
   "id": "608260e2",
   "metadata": {},
   "outputs": [
    {
     "data": {
      "text/plain": [
       "array([[10.,  2., 10.,  4.,  8.],\n",
       "       [ 7.,  9.,  8.,  5.,  2.],\n",
       "       [ 5.,  8., 10.,  9.,  9.]])"
      ]
     },
     "execution_count": 41,
     "metadata": {},
     "output_type": "execute_result"
    }
   ],
   "source": [
    "dog + cat"
   ]
  },
  {
   "cell_type": "code",
   "execution_count": 42,
   "id": "be5a33d6",
   "metadata": {},
   "outputs": [
    {
     "data": {
      "text/plain": [
       "array([[0, 8, 6],\n",
       "       [8, 7, 0],\n",
       "       [7, 7, 2],\n",
       "       [0, 7, 2],\n",
       "       [2, 0, 4]])"
      ]
     },
     "execution_count": 42,
     "metadata": {},
     "output_type": "execute_result"
    }
   ],
   "source": [
    "mouse = np.random.randint(0, 10, size=(5,3))\n",
    "mouse"
   ]
  },
  {
   "cell_type": "code",
   "execution_count": 43,
   "id": "5a3b15aa",
   "metadata": {},
   "outputs": [
    {
     "ename": "ValueError",
     "evalue": "operands could not be broadcast together with shapes (5,3) (3,5) ",
     "output_type": "error",
     "traceback": [
      "\u001b[1;31m---------------------------------------------------------------------------\u001b[0m",
      "\u001b[1;31mValueError\u001b[0m                                Traceback (most recent call last)",
      "Cell \u001b[1;32mIn[43], line 1\u001b[0m\n\u001b[1;32m----> 1\u001b[0m \u001b[43mmouse\u001b[49m\u001b[43m \u001b[49m\u001b[38;5;241;43m+\u001b[39;49m\u001b[43m \u001b[49m\u001b[43mcat\u001b[49m\n",
      "\u001b[1;31mValueError\u001b[0m: operands could not be broadcast together with shapes (5,3) (3,5) "
     ]
    }
   ],
   "source": [
    "mouse + cat"
   ]
  },
  {
   "cell_type": "code",
   "execution_count": 44,
   "id": "dbf2ab96",
   "metadata": {},
   "outputs": [
    {
     "data": {
      "text/plain": [
       "array([[1., 9., 8., 1., 3.],\n",
       "       [9., 8., 8., 8., 1.],\n",
       "       [7., 1., 3., 3., 5.]])"
      ]
     },
     "execution_count": 44,
     "metadata": {},
     "output_type": "execute_result"
    }
   ],
   "source": [
    "# Tranpose one of the array\n",
    "mouse.T + cat"
   ]
  },
  {
   "cell_type": "code",
   "execution_count": 45,
   "id": "5fd2c59e",
   "metadata": {},
   "outputs": [],
   "source": [
    "another_array = np.ones((3,5))"
   ]
  },
  {
   "cell_type": "code",
   "execution_count": 46,
   "id": "30ce95b1",
   "metadata": {},
   "outputs": [
    {
     "data": {
      "text/plain": [
       "array([[ 0., -8., -7.,  0., -2.],\n",
       "       [-8., -7., -7., -7.,  0.],\n",
       "       [-6.,  0., -2., -2., -4.]])"
      ]
     },
     "execution_count": 46,
     "metadata": {},
     "output_type": "execute_result"
    }
   ],
   "source": [
    "another_array - (mouse.T + cat)"
   ]
  },
  {
   "cell_type": "code",
   "execution_count": 47,
   "id": "e31783be",
   "metadata": {},
   "outputs": [
    {
     "data": {
      "text/plain": [
       "array([[ 0., -8., -7.,  0., -2.],\n",
       "       [-8., -7., -7., -7.,  0.],\n",
       "       [-6.,  0., -2., -2., -4.]])"
      ]
     },
     "execution_count": 47,
     "metadata": {},
     "output_type": "execute_result"
    }
   ],
   "source": [
    "(another_array - (mouse.T + cat)) * cat"
   ]
  },
  {
   "cell_type": "code",
   "execution_count": 48,
   "id": "f58a96c4",
   "metadata": {},
   "outputs": [],
   "source": [
    "twnf = (another_array - (mouse.T + cat)) * cat"
   ]
  },
  {
   "cell_type": "code",
   "execution_count": 49,
   "id": "309863c8",
   "metadata": {},
   "outputs": [
    {
     "data": {
      "text/plain": [
       "array([[ 0., 64., 49.,  0.,  4.],\n",
       "       [64., 49., 49., 49.,  0.],\n",
       "       [36.,  0.,  4.,  4., 16.]])"
      ]
     },
     "execution_count": 49,
     "metadata": {},
     "output_type": "execute_result"
    }
   ],
   "source": [
    "twnf ** 2"
   ]
  },
  {
   "cell_type": "code",
   "execution_count": 50,
   "id": "bde1782b",
   "metadata": {},
   "outputs": [
    {
     "data": {
      "text/plain": [
       "array([[ 0., 64., 49.,  0.,  4.],\n",
       "       [64., 49., 49., 49.,  0.],\n",
       "       [36.,  0.,  4.,  4., 16.]])"
      ]
     },
     "execution_count": 50,
     "metadata": {},
     "output_type": "execute_result"
    }
   ],
   "source": [
    "np.square(twnf)"
   ]
  },
  {
   "cell_type": "code",
   "execution_count": 51,
   "id": "1acb0d41",
   "metadata": {},
   "outputs": [
    {
     "data": {
      "text/plain": [
       "-4.0"
      ]
     },
     "execution_count": 51,
     "metadata": {},
     "output_type": "execute_result"
    }
   ],
   "source": [
    "np.mean(twnf)"
   ]
  },
  {
   "cell_type": "code",
   "execution_count": 52,
   "id": "b094f2f6",
   "metadata": {},
   "outputs": [
    {
     "data": {
      "text/plain": [
       "0.0"
      ]
     },
     "execution_count": 52,
     "metadata": {},
     "output_type": "execute_result"
    }
   ],
   "source": [
    "np.max(twnf)"
   ]
  },
  {
   "cell_type": "code",
   "execution_count": 53,
   "id": "d759359f",
   "metadata": {},
   "outputs": [
    {
     "data": {
      "text/plain": [
       "-8.0"
      ]
     },
     "execution_count": 53,
     "metadata": {},
     "output_type": "execute_result"
    }
   ],
   "source": [
    "np.min(twnf)"
   ]
  },
  {
   "cell_type": "code",
   "execution_count": 54,
   "id": "8cea4234",
   "metadata": {},
   "outputs": [
    {
     "data": {
      "text/plain": [
       "3.141125063837266"
      ]
     },
     "execution_count": 54,
     "metadata": {},
     "output_type": "execute_result"
    }
   ],
   "source": [
    "np.std(twnf)"
   ]
  },
  {
   "cell_type": "code",
   "execution_count": 55,
   "id": "e67a4bbb",
   "metadata": {},
   "outputs": [
    {
     "data": {
      "text/plain": [
       "9.866666666666667"
      ]
     },
     "execution_count": 55,
     "metadata": {},
     "output_type": "execute_result"
    }
   ],
   "source": [
    "np.var(twnf)"
   ]
  },
  {
   "cell_type": "code",
   "execution_count": 56,
   "id": "b708f48f",
   "metadata": {},
   "outputs": [
    {
     "data": {
      "text/plain": [
       "array([[[ 0.],\n",
       "        [-8.],\n",
       "        [-7.],\n",
       "        [ 0.],\n",
       "        [-2.]],\n",
       "\n",
       "       [[-8.],\n",
       "        [-7.],\n",
       "        [-7.],\n",
       "        [-7.],\n",
       "        [ 0.]],\n",
       "\n",
       "       [[-6.],\n",
       "        [ 0.],\n",
       "        [-2.],\n",
       "        [-2.],\n",
       "        [-4.]]])"
      ]
     },
     "execution_count": 56,
     "metadata": {},
     "output_type": "execute_result"
    }
   ],
   "source": [
    "twnf.reshape(3, 5, 1)"
   ]
  },
  {
   "cell_type": "code",
   "execution_count": 58,
   "id": "e6f934c3",
   "metadata": {},
   "outputs": [
    {
     "data": {
      "text/plain": [
       "array([[[ 0., -8., -6.],\n",
       "        [-8., -7.,  0.],\n",
       "        [-7., -7., -2.],\n",
       "        [ 0., -7., -2.],\n",
       "        [-2.,  0., -4.]]])"
      ]
     },
     "execution_count": 58,
     "metadata": {},
     "output_type": "execute_result"
    }
   ],
   "source": [
    "twnf.reshape(3,5,1).T\n"
   ]
  },
  {
   "cell_type": "code",
   "execution_count": 59,
   "id": "974cdbf8",
   "metadata": {},
   "outputs": [],
   "source": [
    "int_1 = np.random.randint(0, 10, size=(3, 3))\n",
    "int_2 = np.random.randint(0, 10, size=(3, 2))"
   ]
  },
  {
   "cell_type": "code",
   "execution_count": 60,
   "id": "3565912f",
   "metadata": {},
   "outputs": [
    {
     "data": {
      "text/plain": [
       "array([[114, 141],\n",
       "       [106, 128],\n",
       "       [ 49,  46]])"
      ]
     },
     "execution_count": 60,
     "metadata": {},
     "output_type": "execute_result"
    }
   ],
   "source": [
    "np.dot(int_1, int_2)"
   ]
  },
  {
   "cell_type": "code",
   "execution_count": 61,
   "id": "5524693b",
   "metadata": {},
   "outputs": [],
   "source": [
    "int_3 = np.random.randint(0, 10, size=(4, 3))\n",
    "int_4 = np.random.randint(0, 10, size=(4, 3))"
   ]
  },
  {
   "cell_type": "code",
   "execution_count": 62,
   "id": "00946ddd",
   "metadata": {},
   "outputs": [
    {
     "ename": "ValueError",
     "evalue": "shapes (4,3) and (4,3) not aligned: 3 (dim 1) != 4 (dim 0)",
     "output_type": "error",
     "traceback": [
      "\u001b[1;31m---------------------------------------------------------------------------\u001b[0m",
      "\u001b[1;31mValueError\u001b[0m                                Traceback (most recent call last)",
      "Cell \u001b[1;32mIn[62], line 1\u001b[0m\n\u001b[1;32m----> 1\u001b[0m \u001b[43mnp\u001b[49m\u001b[38;5;241;43m.\u001b[39;49m\u001b[43mdot\u001b[49m\u001b[43m(\u001b[49m\u001b[43mint_3\u001b[49m\u001b[43m,\u001b[49m\u001b[43m \u001b[49m\u001b[43mint_4\u001b[49m\u001b[43m)\u001b[49m\n",
      "File \u001b[1;32m<__array_function__ internals>:200\u001b[0m, in \u001b[0;36mdot\u001b[1;34m(*args, **kwargs)\u001b[0m\n",
      "\u001b[1;31mValueError\u001b[0m: shapes (4,3) and (4,3) not aligned: 3 (dim 1) != 4 (dim 0)"
     ]
    }
   ],
   "source": [
    "np.dot(int_3, int_4)"
   ]
  },
  {
   "cell_type": "code",
   "execution_count": 63,
   "id": "fe2e14f4",
   "metadata": {},
   "outputs": [
    {
     "data": {
      "text/plain": [
       "array([[ 63,  30,  23,  36],\n",
       "       [ 58,  18,  34,  36],\n",
       "       [ 54,  27,  70,  66],\n",
       "       [124,  60,  90, 102]])"
      ]
     },
     "execution_count": 63,
     "metadata": {},
     "output_type": "execute_result"
    }
   ],
   "source": [
    "np.dot(int_3, int_4.T)"
   ]
  },
  {
   "cell_type": "code",
   "execution_count": 64,
   "id": "0e8f7880",
   "metadata": {},
   "outputs": [],
   "source": [
    "you = np.random.randint(0, 10, size=(2, 4))\n",
    "\n",
    "i = np.random.randint(0, 10, size=(2, 4))\n"
   ]
  },
  {
   "cell_type": "code",
   "execution_count": 65,
   "id": "f136f177",
   "metadata": {},
   "outputs": [
    {
     "data": {
      "text/plain": [
       "array([[ True,  True,  True, False],\n",
       "       [False, False,  True,  True]])"
      ]
     },
     "execution_count": 65,
     "metadata": {},
     "output_type": "execute_result"
    }
   ],
   "source": [
    "i > you"
   ]
  },
  {
   "cell_type": "code",
   "execution_count": 66,
   "id": "40669b32",
   "metadata": {},
   "outputs": [
    {
     "data": {
      "text/plain": [
       "array([[ True, False,  True, False],\n",
       "       [False, False,  True,  True]])"
      ]
     },
     "execution_count": 66,
     "metadata": {},
     "output_type": "execute_result"
    }
   ],
   "source": [
    "i > 7"
   ]
  },
  {
   "cell_type": "code",
   "execution_count": 67,
   "id": "01716e5e",
   "metadata": {},
   "outputs": [
    {
     "data": {
      "text/plain": [
       "array([[False, False, False, False],\n",
       "       [False, False, False, False]])"
      ]
     },
     "execution_count": 67,
     "metadata": {},
     "output_type": "execute_result"
    }
   ],
   "source": [
    "i == you"
   ]
  },
  {
   "cell_type": "code",
   "execution_count": 68,
   "id": "a6583df9",
   "metadata": {},
   "outputs": [
    {
     "data": {
      "text/plain": [
       "array([[1, 2, 5, 9],\n",
       "       [3, 4, 5, 8]])"
      ]
     },
     "execution_count": 68,
     "metadata": {},
     "output_type": "execute_result"
    }
   ],
   "source": [
    "np.sort(you)"
   ]
  },
  {
   "cell_type": "code",
   "execution_count": 69,
   "id": "39ed93dc",
   "metadata": {},
   "outputs": [
    {
     "data": {
      "text/plain": [
       "array([[2, 0, 1, 3],\n",
       "       [3, 1, 2, 0]], dtype=int64)"
      ]
     },
     "execution_count": 69,
     "metadata": {},
     "output_type": "execute_result"
    }
   ],
   "source": [
    "# Sort the indexes of one of the arrays you just created\n",
    "np.argsort(you)"
   ]
  },
  {
   "cell_type": "code",
   "execution_count": 70,
   "id": "92e16139",
   "metadata": {},
   "outputs": [
    {
     "data": {
      "text/plain": [
       "3"
      ]
     },
     "execution_count": 70,
     "metadata": {},
     "output_type": "execute_result"
    }
   ],
   "source": [
    "# Find the index with the maximum value in one of the arrays you've created\n",
    "np.argmax(you)"
   ]
  },
  {
   "cell_type": "code",
   "execution_count": 71,
   "id": "e7a86fad",
   "metadata": {},
   "outputs": [
    {
     "data": {
      "text/plain": [
       "2"
      ]
     },
     "execution_count": 71,
     "metadata": {},
     "output_type": "execute_result"
    }
   ],
   "source": [
    "# Find the index with the minimum value in one of the arrays you've created\n",
    "np.argmin(you)"
   ]
  },
  {
   "cell_type": "code",
   "execution_count": 72,
   "id": "68122279",
   "metadata": {},
   "outputs": [
    {
     "data": {
      "text/plain": [
       "array([3, 0], dtype=int64)"
      ]
     },
     "execution_count": 72,
     "metadata": {},
     "output_type": "execute_result"
    }
   ],
   "source": [
    "# Find the indexes with the maximum values down the 1st axis (axis=1)\n",
    "# of one of the arrays you created\n",
    "np.argmax(you, axis=1)"
   ]
  },
  {
   "cell_type": "code",
   "execution_count": 73,
   "id": "83f7671e",
   "metadata": {},
   "outputs": [
    {
     "data": {
      "text/plain": [
       "array([1, 1, 0, 0], dtype=int64)"
      ]
     },
     "execution_count": 73,
     "metadata": {},
     "output_type": "execute_result"
    }
   ],
   "source": [
    "# Find the indexes with the minimum values across the 0th axis (axis=0)\n",
    "# of one of the arrays you created\n",
    "np.argmin(i, axis=0)"
   ]
  },
  {
   "cell_type": "code",
   "execution_count": 74,
   "id": "6146a319",
   "metadata": {},
   "outputs": [
    {
     "data": {
      "text/plain": [
       "array([[ 0.29612028,  0.26105527,  0.00511346, -0.23458713, -1.41537074],\n",
       "       [-0.42064532, -0.34271452, -0.80227727, -0.16128571,  0.40405086],\n",
       "       [ 1.8861859 ,  0.17457781,  0.25755039, -0.07444592, -1.91877122]])"
      ]
     },
     "execution_count": 74,
     "metadata": {},
     "output_type": "execute_result"
    }
   ],
   "source": [
    "# Create an array of normally distributed random numbers\n",
    "np.random.randn(3, 5)"
   ]
  },
  {
   "cell_type": "code",
   "execution_count": 75,
   "id": "3586ab5f",
   "metadata": {},
   "outputs": [
    {
     "data": {
      "text/plain": [
       "array([  1.,  12.,  23.,  34.,  45.,  56.,  67.,  78.,  89., 100.])"
      ]
     },
     "execution_count": 75,
     "metadata": {},
     "output_type": "execute_result"
    }
   ],
   "source": [
    "# Create an array with 10 evenly spaced numbers between 1 and 100\n",
    "np.linspace(1, 100, 10)"
   ]
  },
  {
   "cell_type": "code",
   "execution_count": null,
   "id": "1561d655",
   "metadata": {},
   "outputs": [],
   "source": []
  }
 ],
 "metadata": {
  "kernelspec": {
   "display_name": "Python 3 (ipykernel)",
   "language": "python",
   "name": "python3"
  },
  "language_info": {
   "codemirror_mode": {
    "name": "ipython",
    "version": 3
   },
   "file_extension": ".py",
   "mimetype": "text/x-python",
   "name": "python",
   "nbconvert_exporter": "python",
   "pygments_lexer": "ipython3",
   "version": "3.8.18"
  }
 },
 "nbformat": 4,
 "nbformat_minor": 5
}
